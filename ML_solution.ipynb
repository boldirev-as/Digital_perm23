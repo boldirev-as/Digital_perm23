{
 "cells": [
  {
   "cell_type": "code",
   "execution_count": 1,
   "id": "a429ea62-9d9c-4e14-b2a1-5c62a7665d2a",
   "metadata": {},
   "outputs": [
    {
     "name": "stderr",
     "output_type": "stream",
     "text": [
      "\n",
      "[notice] A new release of pip is available: 23.2.1 -> 23.3.1\n",
      "[notice] To update, run: python.exe -m pip install --upgrade pip\n"
     ]
    }
   ],
   "source": [
    "!pip install pandas numpy tqdm scikit-learn catboost shap >> None"
   ]
  },
  {
   "cell_type": "code",
   "execution_count": 2,
   "id": "8ef781b4-ef34-4c46-ad27-8561d3e25aea",
   "metadata": {},
   "outputs": [],
   "source": [
    "import shap\n",
    "import pandas as pd\n",
    "import numpy as np\n",
    "\n",
    "from tqdm.notebook import tqdm\n",
    "\n",
    "from sklearn.model_selection import KFold, StratifiedKFold, TimeSeriesSplit, train_test_split\n",
    "from catboost import CatBoostClassifier, CatBoostRegressor, Pool\n",
    "\n",
    "from sklearn.metrics import roc_auc_score, f1_score\n",
    "\n",
    "from sklearn.preprocessing import OneHotEncoder\n",
    "\n",
    "import warnings\n",
    "warnings.filterwarnings(\"ignore\")"
   ]
  },
  {
   "cell_type": "markdown",
   "id": "3fef580f-90e2-4ac9-bf25-f0e66f69b8cb",
   "metadata": {},
   "source": [
    "# Load data"
   ]
  },
  {
   "cell_type": "markdown",
   "id": "616c98e1-eb8c-487a-a65e-2b28f2b7179b",
   "metadata": {},
   "source": [
    "загружаем данные и убираем лишние пробелы до и после слова"
   ]
  },
  {
   "cell_type": "code",
   "execution_count": 3,
   "id": "17154996-f14a-4d29-ac98-cb1f0d42b21e",
   "metadata": {},
   "outputs": [],
   "source": [
    "events_df = pd.read_csv(\"Данные/Происшествия.csv\")\n",
    "events_df.replace('^\\s+', '', regex=True, inplace=True) \n",
    "events_df.replace('\\s+$', '', regex=True, inplace=True)"
   ]
  },
  {
   "cell_type": "markdown",
   "id": "4752cb6d-c252-4fa0-8528-b4529e2d26a3",
   "metadata": {},
   "source": [
    "приводим названия МО в таблице Происшествия к единому формату "
   ]
  },
  {
   "cell_type": "code",
   "execution_count": 4,
   "id": "3c8a13f8-777c-4269-bb03-7854ec188f2e",
   "metadata": {},
   "outputs": [],
   "source": [
    "events_df.replace(\"й\", \"й\", inplace=True)\n",
    "events_df.rename(columns={'Дата и время  пожара ': 'Местное время'}, inplace=True)\n",
    "events_df = events_df[events_df[\"Район\"] != \"Пермский край\"]\n",
    "\n",
    "administrative_territories_to_replace = {\n",
    "    \"Верещагино ГО\": \"Верещагинский ГО\",\n",
    "    \"Березники ГО\": \"ГО город Березники\",\n",
    "    \"Гремячинск ГО\": \"Губахинский МО\",\n",
    "    \"Губахинский ГО\": \"Губахинский МО\",\n",
    "    \"Кизеловский ГО\": \"ГО город Кизел\",\n",
    "}\n",
    "\n",
    "events_df.replace({\"Район\": administrative_territories_to_replace}, inplace=True)"
   ]
  },
  {
   "cell_type": "code",
   "execution_count": 5,
   "id": "da5d8d85-5bb7-4ea5-8f7e-e33e93548604",
   "metadata": {},
   "outputs": [],
   "source": [
    "weather_stats_df = pd.read_csv(\"Данные/Данные по метеостанциям.csv\", low_memory=False)\n",
    "weather_stats_df.replace('^\\s+', '', regex=True, inplace=True) \n",
    "weather_stats_df.replace('\\s+$', '', regex=True, inplace=True)\n",
    "weather_stats_df.meteostation = weather_stats_df.meteostation.str.replace(\"й\", \"й\")"
   ]
  },
  {
   "cell_type": "code",
   "execution_count": 6,
   "id": "69e6cb34-02b4-42d3-9a28-16f0567ddcd3",
   "metadata": {},
   "outputs": [],
   "source": [
    "respective_weather_df = pd.read_csv('Данные/Данные_по_метеостанциям_Соответствие_МО.csv')\n",
    "respective_weather_df.replace('^\\s+', '', regex=True, inplace=True) \n",
    "respective_weather_df.replace('\\s+$', '', regex=True, inplace=True)\n",
    "respective_weather_df.replace(\"й\", \"й\", inplace=True)"
   ]
  },
  {
   "cell_type": "code",
   "execution_count": 7,
   "id": "951f6fd0-4430-4127-b87b-e5d702dfd3c3",
   "metadata": {},
   "outputs": [],
   "source": [
    "predict_df = pd.read_csv('Данные/ОЯ и НЯ.csv')\n",
    "predict_df.rename(columns={'Дата, время начала': 'Местное время'}, inplace=True)\n",
    "predict_df.replace('^\\s+', '', regex=True, inplace=True) \n",
    "predict_df.replace('\\s+$', '', regex=True, inplace=True)"
   ]
  },
  {
   "cell_type": "markdown",
   "id": "6f6878cd-54ca-44e2-8513-304c827733d4",
   "metadata": {},
   "source": [
    "# Data preprocessing"
   ]
  },
  {
   "cell_type": "markdown",
   "id": "23c86819-325d-4770-a5df-a7f8bdf18ce9",
   "metadata": {},
   "source": [
    "переводим МО в название метеостанции которая отвечает за этот округ"
   ]
  },
  {
   "cell_type": "code",
   "execution_count": 8,
   "id": "3f294297-20c1-4c98-a9a0-6e603858317e",
   "metadata": {},
   "outputs": [],
   "source": [
    "MO_to_weather_station = dict(respective_weather_df.values)\n",
    "MO_to_weather_station = {x: y.split()[1] for x, y in MO_to_weather_station.items()}"
   ]
  },
  {
   "cell_type": "code",
   "execution_count": 9,
   "id": "6d3bba49-5c3c-4c84-933a-cdd914bbef17",
   "metadata": {},
   "outputs": [],
   "source": [
    "events_df['meteostation'] = events_df['Район'].map(MO_to_weather_station)"
   ]
  },
  {
   "cell_type": "markdown",
   "id": "4e293371-cc7f-4fc0-bc03-a067abb16f7d",
   "metadata": {},
   "source": [
    "приводим названия метеостанций к одному формату"
   ]
  },
  {
   "cell_type": "code",
   "execution_count": 10,
   "id": "72bc5c66-58b5-4076-8d5a-aba4c203bc58",
   "metadata": {},
   "outputs": [],
   "source": [
    "meteostations_to_replace = {\n",
    "    \"Большая\": \"Большая Соснова\",\n",
    "    \"Кочёво\": \"Кочево\",\n",
    "}\n",
    "\n",
    "events_df.replace({\"meteostation\": meteostations_to_replace}, inplace=True)"
   ]
  },
  {
   "cell_type": "markdown",
   "id": "08a7f0b7-613b-4936-83bc-5a111cb43d50",
   "metadata": {},
   "source": [
    "переводим время из строки в таймстампы"
   ]
  },
  {
   "cell_type": "code",
   "execution_count": 11,
   "id": "0a21bc4e-be0f-4cc0-be38-0e3ff0e40b63",
   "metadata": {},
   "outputs": [],
   "source": [
    "weather_stats_df[\"Местное время\"] = pd.to_datetime(weather_stats_df[\"Местное время\"], format=\"%d.%m.%Y %H:%M\")\n",
    "events_df[\"Местное время\"] = pd.to_datetime(events_df[\"Местное время\"], format=\"%Y-%m-%d %H:%M:%S\")\n",
    "predict_df[\"Местное время\"] = pd.to_datetime(predict_df[\"Местное время\"], format=\"%Y-%m-%d %H:%M:%S\")"
   ]
  },
  {
   "cell_type": "code",
   "execution_count": 12,
   "id": "4c67043d-85bd-4009-b6b5-437aa72552f3",
   "metadata": {},
   "outputs": [],
   "source": [
    "events_df[\"timestamp\"] = pd.to_numeric(events_df[\"Местное время\"])\n",
    "weather_stats_df[\"timestamp\"] = pd.to_numeric(weather_stats_df[\"Местное время\"])"
   ]
  },
  {
   "cell_type": "markdown",
   "id": "7080af2a-8a5f-4659-9fca-514d11359b1f",
   "metadata": {},
   "source": [
    "изменяем дату в events_df на максимально приближенную к дате из weather_df"
   ]
  },
  {
   "cell_type": "code",
   "execution_count": 13,
   "id": "da9f338a-79e0-4069-a883-88528e5b6084",
   "metadata": {},
   "outputs": [
    {
     "data": {
      "text/html": [
       "<div>\n",
       "<style scoped>\n",
       "    .dataframe tbody tr th:only-of-type {\n",
       "        vertical-align: middle;\n",
       "    }\n",
       "\n",
       "    .dataframe tbody tr th {\n",
       "        vertical-align: top;\n",
       "    }\n",
       "\n",
       "    .dataframe thead th {\n",
       "        text-align: right;\n",
       "    }\n",
       "</style>\n",
       "<table border=\"1\" class=\"dataframe\">\n",
       "  <thead>\n",
       "    <tr style=\"text-align: right;\">\n",
       "      <th></th>\n",
       "      <th>Район</th>\n",
       "      <th>Тип</th>\n",
       "      <th>Местное время</th>\n",
       "      <th>meteostation</th>\n",
       "      <th>timestamp</th>\n",
       "    </tr>\n",
       "  </thead>\n",
       "  <tbody>\n",
       "    <tr>\n",
       "      <th>0</th>\n",
       "      <td>ГО город Березники</td>\n",
       "      <td>Пожар с гибелью 2-х и более человек</td>\n",
       "      <td>2012-12-18 20:39:00</td>\n",
       "      <td>Березники</td>\n",
       "      <td>1357005600000000000</td>\n",
       "    </tr>\n",
       "    <tr>\n",
       "      <th>1</th>\n",
       "      <td>Пермский МО</td>\n",
       "      <td>Особо опасные болезни сельскохозяйственных жив...</td>\n",
       "      <td>2013-01-01 00:00:00</td>\n",
       "      <td>Пермь</td>\n",
       "      <td>1357005600000000000</td>\n",
       "    </tr>\n",
       "    <tr>\n",
       "      <th>2</th>\n",
       "      <td>Юрлинский МО</td>\n",
       "      <td>Особо опасные болезни сельскохозяйственных жив...</td>\n",
       "      <td>2013-01-01 00:00:00</td>\n",
       "      <td>Кочево</td>\n",
       "      <td>1357005600000000000</td>\n",
       "    </tr>\n",
       "    <tr>\n",
       "      <th>3</th>\n",
       "      <td>Карагайский МО</td>\n",
       "      <td>Особо опасные болезни сельскохозяйственных жив...</td>\n",
       "      <td>2013-01-01 00:00:00</td>\n",
       "      <td>Верещагино</td>\n",
       "      <td>1357005600000000000</td>\n",
       "    </tr>\n",
       "    <tr>\n",
       "      <th>4</th>\n",
       "      <td>Добрянский ГО</td>\n",
       "      <td>Пожар с гибелью 2-х и более человек</td>\n",
       "      <td>2013-01-01 07:50:00</td>\n",
       "      <td>Добрянка</td>\n",
       "      <td>1357016400000000000</td>\n",
       "    </tr>\n",
       "    <tr>\n",
       "      <th>...</th>\n",
       "      <td>...</td>\n",
       "      <td>...</td>\n",
       "      <td>...</td>\n",
       "      <td>...</td>\n",
       "      <td>...</td>\n",
       "    </tr>\n",
       "    <tr>\n",
       "      <th>3649</th>\n",
       "      <td>Пермский ГО</td>\n",
       "      <td>Аварийные ситуации на ЖД транспорте</td>\n",
       "      <td>2022-12-08 11:50:00</td>\n",
       "      <td>Пермь</td>\n",
       "      <td>1670497200000000000</td>\n",
       "    </tr>\n",
       "    <tr>\n",
       "      <th>3650</th>\n",
       "      <td>Пермский ГО</td>\n",
       "      <td>Пожары на объектах торговли</td>\n",
       "      <td>2022-12-16 18:01:00</td>\n",
       "      <td>Пермь</td>\n",
       "      <td>1671210000000000000</td>\n",
       "    </tr>\n",
       "    <tr>\n",
       "      <th>3651</th>\n",
       "      <td>Пермский МО</td>\n",
       "      <td>Крупные ДТП (повреждение 10 и более а/м, ДТП с...</td>\n",
       "      <td>2022-12-25 21:00:00</td>\n",
       "      <td>Пермь</td>\n",
       "      <td>1671998400000000000</td>\n",
       "    </tr>\n",
       "    <tr>\n",
       "      <th>3652</th>\n",
       "      <td>Пермский ГО</td>\n",
       "      <td>Аварии на магистральных газо-, нефте-, продукт...</td>\n",
       "      <td>2022-12-28 13:03:00</td>\n",
       "      <td>Пермь</td>\n",
       "      <td>1672225200000000000</td>\n",
       "    </tr>\n",
       "    <tr>\n",
       "      <th>3653</th>\n",
       "      <td>Куединский МО</td>\n",
       "      <td>Пожары на объектах торговли</td>\n",
       "      <td>2022-12-28 17:20:00</td>\n",
       "      <td>Чернушка</td>\n",
       "      <td>1672246800000000000</td>\n",
       "    </tr>\n",
       "  </tbody>\n",
       "</table>\n",
       "<p>3653 rows × 5 columns</p>\n",
       "</div>"
      ],
      "text/plain": [
       "                   Район                                                Тип  \\\n",
       "0     ГО город Березники                Пожар с гибелью 2-х и более человек   \n",
       "1            Пермский МО  Особо опасные болезни сельскохозяйственных жив...   \n",
       "2           Юрлинский МО  Особо опасные болезни сельскохозяйственных жив...   \n",
       "3         Карагайский МО  Особо опасные болезни сельскохозяйственных жив...   \n",
       "4          Добрянский ГО                Пожар с гибелью 2-х и более человек   \n",
       "...                  ...                                                ...   \n",
       "3649         Пермский ГО                Аварийные ситуации на ЖД транспорте   \n",
       "3650         Пермский ГО                        Пожары на объектах торговли   \n",
       "3651         Пермский МО  Крупные ДТП (повреждение 10 и более а/м, ДТП с...   \n",
       "3652         Пермский ГО  Аварии на магистральных газо-, нефте-, продукт...   \n",
       "3653       Куединский МО                        Пожары на объектах торговли   \n",
       "\n",
       "           Местное время meteostation            timestamp  \n",
       "0    2012-12-18 20:39:00    Березники  1357005600000000000  \n",
       "1    2013-01-01 00:00:00        Пермь  1357005600000000000  \n",
       "2    2013-01-01 00:00:00       Кочево  1357005600000000000  \n",
       "3    2013-01-01 00:00:00   Верещагино  1357005600000000000  \n",
       "4    2013-01-01 07:50:00     Добрянка  1357016400000000000  \n",
       "...                  ...          ...                  ...  \n",
       "3649 2022-12-08 11:50:00        Пермь  1670497200000000000  \n",
       "3650 2022-12-16 18:01:00        Пермь  1671210000000000000  \n",
       "3651 2022-12-25 21:00:00        Пермь  1671998400000000000  \n",
       "3652 2022-12-28 13:03:00        Пермь  1672225200000000000  \n",
       "3653 2022-12-28 17:20:00     Чернушка  1672246800000000000  \n",
       "\n",
       "[3653 rows x 5 columns]"
      ]
     },
     "execution_count": 13,
     "metadata": {},
     "output_type": "execute_result"
    }
   ],
   "source": [
    "events_timestamps = list(events_df[\"timestamp\"])\n",
    "weather_stats_timestamps = list(sorted(set(weather_stats_df[\"timestamp\"])))\n",
    "new_events_timestamps = events_timestamps\n",
    "weather_stats_iterator = 0\n",
    "events_iterator = 0\n",
    "while events_iterator != len(events_timestamps):\n",
    "    if weather_stats_iterator == len(weather_stats_timestamps) - 1:\n",
    "        new_events_timestamps[events_iterator] = weather_stats_timestamps[weather_stats_iterator]\n",
    "    elif events_timestamps[events_iterator] > weather_stats_timestamps[weather_stats_iterator + 1]:\n",
    "        weather_stats_iterator += 1\n",
    "    else:\n",
    "        new_events_timestamps[events_iterator] = weather_stats_timestamps[weather_stats_iterator]\n",
    "        events_iterator += 1\n",
    "events_df[\"timestamp\"] = new_events_timestamps\n",
    "events_df"
   ]
  },
  {
   "cell_type": "code",
   "execution_count": 14,
   "id": "e874d742-2cdb-4f81-a28f-02d223b0bc72",
   "metadata": {},
   "outputs": [],
   "source": [
    "events_df[\"Местное время\"] = pd.to_datetime(events_df[\"timestamp\"])\n",
    "events_df.drop(\"timestamp\", axis=1, inplace=True)"
   ]
  },
  {
   "cell_type": "markdown",
   "id": "1e8f7ac2-7ecb-4237-9f28-6272e89b52cd",
   "metadata": {},
   "source": [
    "соединяем данные по погоде и события, которые произошли в определенное время "
   ]
  },
  {
   "cell_type": "code",
   "execution_count": 15,
   "id": "26a02ed5-9119-4daf-945c-a8eeb668898e",
   "metadata": {},
   "outputs": [],
   "source": [
    "merged_df = weather_stats_df.merge(events_df, on=['meteostation', 'Местное время'], how='left')"
   ]
  },
  {
   "cell_type": "markdown",
   "id": "cb7c4631-55e5-4863-adf7-f2fa9e91a448",
   "metadata": {},
   "source": [
    "добавляем фичи дня"
   ]
  },
  {
   "cell_type": "code",
   "execution_count": 16,
   "id": "6288c063-83b3-4386-80f2-491f9bf60f1f",
   "metadata": {},
   "outputs": [],
   "source": [
    "merged_df[\"day_of_week\"] = merged_df[\"Местное время\"].map(lambda x: x.day_of_week)\n",
    "merged_df[\"is_weekday\"] = merged_df[\"day_of_week\"].isin([6, 7])\n",
    "merged_df[\"hour\"] = merged_df[\"Местное время\"].map(lambda x: x.hour)"
   ]
  },
  {
   "cell_type": "code",
   "execution_count": null,
   "id": "e2bf7046-969c-49b4-ae18-7f742a5b0dc7",
   "metadata": {},
   "outputs": [],
   "source": []
  },
  {
   "cell_type": "code",
   "execution_count": 17,
   "id": "cb5ba5e7-fc94-419a-b0f2-1797ac40be4f",
   "metadata": {},
   "outputs": [],
   "source": [
    "merged_df['Тип'] = merged_df['Тип'].fillna('Нет события')\n",
    "merged_df['Район'] = merged_df['Район'].fillna('')"
   ]
  },
  {
   "cell_type": "markdown",
   "id": "dfff2335-0268-4cbf-9bf3-2420f100eb52",
   "metadata": {},
   "source": [
    "уменьшаем количество уникальных названий классов до базового набора из пяти категорий"
   ]
  },
  {
   "cell_type": "code",
   "execution_count": 18,
   "id": "9eba188d-6f86-4b26-9a66-3acbdbc2c585",
   "metadata": {},
   "outputs": [],
   "source": [
    "type_convertation = {\"Абразия\": \"Опасные природные явления\",\n",
    " \"Аварии (катастрофы) на автодорогах (на транспорте, перевозящем опасные грузы)\": \"ДТП\",\n",
    " \"Аварии на внутрипромысловых нефтепроводах\": \"Аварии с выбросом опасных/токсичных веществ\",\n",
    " \"Аварии на коммунальных системах жизнеобеспечения Водозаборы, очистные сооружени\": \"ЖКХ\",\n",
    " \"Аварии на коммунальных системах жизнеобеспечения ГВС\": \"ЖКХ\",\n",
    " \"Аварии на коммунальных системах жизнеобеспечения Газоснабжение\": \"ЖКХ\",\n",
    " \"Аварии на коммунальных системах жизнеобеспечения Канализации\": \"ЖКХ\",\n",
    " \"Аварии на коммунальных системах жизнеобеспечения Котельные\": \"ЖКХ\",\n",
    " \"Аварии на коммунальных системах жизнеобеспечения Теплоснабжение\": \"ЖКХ\",\n",
    " \"Аварии на коммунальных системах жизнеобеспечения ХВС\": \"ЖКХ\",\n",
    " \"Аварии на магистральных газо-, нефте-, продукто-проводах\": \"Аварии с выбросом опасных/токсичных веществ\",\n",
    " \"Аварии на магистральных газо-, нефте-, продукто-проводах Канализации\": \"Аварии с выбросом опасных/токсичных веществ\",\n",
    " \"Аварии на очистных сооружениях\": \"ЖКХ\",\n",
    " \"Аварии на электроэнергетических системах\": \"ЖКХ\",\n",
    " \"Аварии на электроэнергетических системах ГВС\": \"ЖКХ\",\n",
    " \"Аварии на электроэнергетических системах ХВС\": \"ЖКХ\",\n",
    " \"Аварии с выбросом или сбросом (угрозой выброса) АХОВ\": \"Аварии с выбросом опасных/токсичных веществ\",\n",
    " \"Аварийные ситуации на ЖД транспорте\": \"ДТП\",\n",
    " \"Авиационные катастрофы, аварии в аэропортах, в населённых пунктах\": \"ДТП\",\n",
    " \"Взрыв газа\": \"Взрывы/пожары/разрушения\",\n",
    " \"Внезапное обрушение зданий, сооружений, пород\": \"Взрывы/пожары/разрушения\",\n",
    " \"Гидродинамические аварии\": \"Аварии с выбросом опасных/токсичных веществ\",\n",
    " \"Загрязнения окружающей среды\": \"Аварии с выбросом опасных/токсичных веществ\",\n",
    " \"Зажор, затор, дождевой паводок\": \"Опасные природные явления\",\n",
    " \"Заморозки\": \"Опасные природные явления\",\n",
    " \"Засуха\": \"Опасные природные явления\",\n",
    " \"Инфекционные заболевания людей невыясненной этиологии\": \"Прочие опасности\",\n",
    " \"Карстовая просадка (провал) земной поверхности, просадка лессовых пород\": \"Взрывы/пожары/разрушения\",\n",
    " \"Кораблекрушения, аварии, повреждения грузовых, пассажирских судов, повреждения судами береговых, гидротехнических и др. объектов\": \"ДТП\",\n",
    " \"Крупные ДТП (повреждение 10 и более а/м, ДТП с тяжкими последствиями)\": \"ДТП\",\n",
    " \"Крушение поезда\": \"ДТП\",\n",
    " \"Крушения и аварии грузовых и пассажирских поездов\": \"ДТП\",\n",
    " \"Лесные пожары\": \"Взрывы/пожары/разрушения\",\n",
    " \"Массовая гибель рыб\": \"Прочие опасности\",\n",
    " \"Нет события\": \"Нет события\",\n",
    " \"Обнаружение неразорвавшихся боеприпасов, взрывчатых веществ\": \"Прочие опасности\",\n",
    " \"Опасные кишечные инфекции людей\": \"Прочие опасности\",\n",
    " \"Оползни, обвалы, осыпи\": \"Опасные природные явления\",\n",
    " \"Особо опасные болезни сельскохозяйственных животных\": \"Прочие опасности\",\n",
    " \"Отравления людей\": \"Прочие опасности\",\n",
    " \"Отрыв прибрежных льдин\": \"Опасные природные явления\",\n",
    " \"Перерыв в движении на главных магистралей\": \"Прочие опасности\",\n",
    " \"Переувлажнение почвы\": \"Опасные природные явления\",\n",
    " \"Пожар с гибелью 2-х и более человек\": \"Взрывы/пожары/разрушения\",\n",
    " \"Пожары на магистральных газо-, нефте-, продуктопроводах\": \"Взрывы/пожары/разрушения\",\n",
    " \"Пожары на объектах сельскохозяйственного назначения\": \"Взрывы/пожары/разрушения\",\n",
    " \"Пожары на объектах торговли\": \"Взрывы/пожары/разрушения\",\n",
    " \"Пожары на социально-значимых объектах (образования, культуры, здравоохранения и др.)\": \"Взрывы/пожары/разрушения\",\n",
    " \"Пожары на транспортных средствах (ж/д, водный, автомобильный, воздушный)\": \"Взрывы/пожары/разрушения\",\n",
    " \"Пожары повышенного номера\": \"Взрывы/пожары/разрушения\",\n",
    " \"Половодье\": \"Опасные природные явления\",\n",
    " \"Происшествия на водных объектах\": \"Прочие опасности\",\n",
    " \"Пропажа людей\": \"Прочие опасности\",\n",
    " \"Сильный ветер\": \"Опасные природные явления\",\n",
    " \"Сильный дождь\": \"Опасные природные явления\",\n",
    " \"Сильный снег\": \"Опасные природные явления\",\n",
    " \"Сильный туман\": \"Опасные природные явления\",\n",
    " \"Транспортные катастрофы и аварии на мостах, переправах, на ж/д переездах\": \"ДТП\",\n",
    " \"Угроза террористического акта\": \"Прочие опасности\",\n",
    " \"Ухудшение качества питьевой воды\": \"Прочие опасности\"}"
   ]
  },
  {
   "cell_type": "code",
   "execution_count": 19,
   "id": "b71c1cc2-55f9-4a93-b4a3-c71f4e9f45ec",
   "metadata": {},
   "outputs": [],
   "source": [
    "merged_df['Тип'] = merged_df['Тип'].map(lambda x: type_convertation[x] if x in type_convertation else 'Нет события')"
   ]
  },
  {
   "cell_type": "markdown",
   "id": "ed2806f8-d1af-4d51-b1cd-f32a2a54ae11",
   "metadata": {},
   "source": [
    "список новых названий классов"
   ]
  },
  {
   "cell_type": "code",
   "execution_count": 20,
   "id": "5d07b454-4f3d-4cb0-ba8e-822e6a39954b",
   "metadata": {},
   "outputs": [
    {
     "data": {
      "text/plain": [
       "Тип\n",
       "Нет события                                    566496\n",
       "ЖКХ                                              1791\n",
       "Взрывы/пожары/разрушения                          538\n",
       "Прочие опасности                                  285\n",
       "Аварии с выбросом опасных/токсичных веществ       221\n",
       "Опасные природные явления                         179\n",
       "ДТП                                               139\n",
       "Name: count, dtype: int64"
      ]
     },
     "execution_count": 20,
     "metadata": {},
     "output_type": "execute_result"
    }
   ],
   "source": [
    "merged_df['Тип'].value_counts()"
   ]
  },
  {
   "cell_type": "code",
   "execution_count": 21,
   "id": "0fe51040-dfea-43e3-a413-7407506baf9c",
   "metadata": {},
   "outputs": [],
   "source": [
    "target_values = list(set(merged_df['Тип']))"
   ]
  },
  {
   "cell_type": "code",
   "execution_count": 22,
   "id": "6fc98aab-78b6-4dc4-ae86-ae721034b302",
   "metadata": {},
   "outputs": [],
   "source": [
    "for target_type in target_values:\n",
    "    merged_df[target_type] = merged_df['Тип'] == target_type"
   ]
  },
  {
   "cell_type": "code",
   "execution_count": 23,
   "id": "d885589c-ed50-493c-b6fa-8e043d9f2ea7",
   "metadata": {},
   "outputs": [],
   "source": [
    "merged_selected_df = merged_df.copy()"
   ]
  },
  {
   "cell_type": "markdown",
   "id": "6262a3f3-e40d-4734-894b-37961823675f",
   "metadata": {},
   "source": [
    "# Data shifts"
   ]
  },
  {
   "cell_type": "markdown",
   "id": "503ca905-6a28-46df-aac1-65ffe3f1dc91",
   "metadata": {},
   "source": [
    "для каждого из сэмплов формируем окно значений погоды за последние 10 сообщений"
   ]
  },
  {
   "cell_type": "code",
   "execution_count": 24,
   "id": "110247c4-b818-4fa5-ac62-bf008e3c1ae0",
   "metadata": {},
   "outputs": [],
   "source": [
    "merged_selected_df['RRR'] = merged_selected_df['RRR'].map(lambda x: x if x not in ['Осадков нет', 'Следы осадков'] else 0)\n",
    "merged_selected_df['sss'] = merged_selected_df['sss'].map(lambda x: x if x not in ['Снежный покров не постоянный.'] else 0)"
   ]
  },
  {
   "cell_type": "code",
   "execution_count": 25,
   "id": "56818a41-ffd5-41a0-b5f5-25217a1dda3b",
   "metadata": {},
   "outputs": [],
   "source": [
    "selected_columns = ['T', 'Td', 'P', 'Po', 'Pa', 'U', 'DD', 'Ff', 'ff10', \n",
    "                       'ff3', 'N', 'WW', 'W1', 'W2', 'Tn', 'Tx', 'Cl', 'Nh', 'H', 'Cm',\n",
    "                   'Ch', 'RRR', 'tR', 'E', 'Tg', \"E'\"]\n",
    "cat_features = ['DD', 'N', 'W1', 'W2', 'WW', 'Cl', 'Nh', 'H', 'Cm', 'Ch', 'E', \"E'\"]"
   ]
  },
  {
   "cell_type": "code",
   "execution_count": 26,
   "id": "e60b5a72-dbf7-428d-ae1b-e35259b5db84",
   "metadata": {},
   "outputs": [],
   "source": [
    "merged_selected_df = merged_selected_df[['Местное время', 'Тип', 'Район', 'meteostation', \n",
    "                                         \"day_of_week\", \"is_weekday\", \"hour\", *selected_columns, *target_values]]"
   ]
  },
  {
   "cell_type": "code",
   "execution_count": 27,
   "id": "c586bc04-5a19-44f8-8fa8-ecc268c56d50",
   "metadata": {},
   "outputs": [],
   "source": [
    "merged_selected_df = merged_selected_df.sort_values(by=['Местное время'])"
   ]
  },
  {
   "cell_type": "code",
   "execution_count": 28,
   "id": "12426333-2355-47a4-869d-5cfe14cfaacf",
   "metadata": {
    "scrolled": true
   },
   "outputs": [],
   "source": [
    "dfs = []\n",
    "for meteo in set(merged_selected_df['meteostation'].tolist()):\n",
    "    class_df = merged_selected_df[merged_selected_df['meteostation'] == meteo]\n",
    "    for column in selected_columns:\n",
    "        for i in range(10):\n",
    "            class_df[f\"{column}_lag{i}\"] = class_df[column].shift(i)\n",
    "    dfs.append(class_df)"
   ]
  },
  {
   "cell_type": "code",
   "execution_count": 29,
   "id": "d235bde4-39b8-4d87-8790-8f26fbc9dbc3",
   "metadata": {},
   "outputs": [],
   "source": [
    "merged_selected_df = pd.concat(dfs, ignore_index=False)"
   ]
  },
  {
   "cell_type": "markdown",
   "id": "003b1323-7293-4541-9f37-cc4302411561",
   "metadata": {},
   "source": [
    "# Metric decision"
   ]
  },
  {
   "cell_type": "markdown",
   "id": "3d36ff32-57bc-43de-abd8-e60b747771bb",
   "metadata": {},
   "source": [
    "Так как на одно время может произойти два инцидента, то это уже не задача мултиклассификации, а задача мультиклассификации. Также у нас присутствует дисбаланс классов, соотвественно в качестве метрики валидации мы будем использовать F1_score(mode='macro'). Это среднее из f1_score по каждому из возможных классов"
   ]
  },
  {
   "attachments": {
    "f7daf581-9f4e-440f-8507-4a09d370cfdc.png": {
     "image/png": "[encoded data removed]"
    }
   },
   "cell_type": "markdown",
   "id": "84e95c8e-2d49-4da7-9a3a-303b418fa6c2",
   "metadata": {},
   "source": [
    "![image.png](attachment:f7daf581-9f4e-440f-8507-4a09d370cfdc.png)"
   ]
  },
  {
   "cell_type": "markdown",
   "id": "4efaa258-a1d3-4a04-b217-403eaedcc354",
   "metadata": {},
   "source": [
    "тренировать мы будем 5 бинарных моделей, чтобы работать с каждым классом"
   ]
  },
  {
   "cell_type": "markdown",
   "id": "c8536fa3-6a0f-45df-92d0-404ee157d3df",
   "metadata": {},
   "source": [
    "# Model training (CatBoost)"
   ]
  },
  {
   "cell_type": "code",
   "execution_count": 30,
   "id": "fadf109e-c49e-40c7-9a2d-a4e6a803e302",
   "metadata": {},
   "outputs": [],
   "source": [
    "def downsample(df, value, fraction=1):\n",
    "        \"\"\"\n",
    "        function to downsample majority class.\n",
    "        \"\"\"\n",
    "        # Separate the majority and minority classes\n",
    "        if value == 'Нет события':\n",
    "            majority_class = df[df[value] != False]\n",
    "            minority_class = df[df[value] == False] \n",
    "        else:\n",
    "            majority_class = df[df[value] == False]\n",
    "            minority_class = df[df[value] != False]  \n",
    "        \n",
    "        # Calculate the number of samples needed from the majority class\n",
    "        num_samples = len(minority_class)\n",
    "        \n",
    "        downsampled_majority = majority_class.sample(frac=(len(minority_class) / len(majority_class)) * 2, replace=True) \n",
    "        \n",
    "        downsampled_df = pd.concat([downsampled_majority, minority_class], axis=0)\n",
    "        \n",
    "        return downsampled_df"
   ]
  },
  {
   "cell_type": "code",
   "execution_count": 31,
   "id": "af2bc5d6-8863-4b2a-b45e-efcb594e5753",
   "metadata": {},
   "outputs": [],
   "source": [
    "def train_model(X, y):\n",
    "    \"\"\"\n",
    "    функция для тренировки модели\n",
    "    \"\"\"\n",
    "    clfs = []\n",
    "    scores = []\n",
    "    kf = StratifiedKFold(n_splits=n_splits, shuffle=True, random_state=0)\n",
    "    \n",
    "    for train_index, test_index in kf.split(X, y):\n",
    "    \n",
    "        X_train, X_test = X.iloc[train_index], X.iloc[test_index]\n",
    "        y_train, y_test = y.iloc[train_index], y.iloc[test_index]\n",
    "        \n",
    "        clf = CatBoostClassifier(\n",
    "            depth=7,\n",
    "            iterations=500,\n",
    "            learning_rate=0.06,\n",
    "            loss_function=\"MultiClass\", \n",
    "            eval_metric=\"TotalF1:average=Macro\", \n",
    "            custom_metric=\"TotalF1:average=Macro\",\n",
    "            boosting_type=\"Ordered\",\n",
    "            \n",
    "            # Главная фишка катбуста - работа с категориальными признаками\n",
    "            cat_features=cat_features,\n",
    "            # ignored_features = ignored_features,\n",
    "            \n",
    "            # Регуляризация и ускорение\n",
    "            colsample_bylevel=0.098,\n",
    "            subsample=0.95,\n",
    "            l2_leaf_reg=9,\n",
    "            min_data_in_leaf=243,\n",
    "            max_bin=187,\n",
    "            random_strength=1,\n",
    "            \n",
    "            # Параметры ускорения\n",
    "            task_type=\"CPU\",    \n",
    "            thread_count=-1,\n",
    "            bootstrap_type=\"Bernoulli\", \n",
    "            \n",
    "            # Важное!\n",
    "            random_seed=7575,\n",
    "            # auto_class_weights=\"SqrtBalanced\",\n",
    "            early_stopping_rounds=50)\n",
    "    \n",
    "        clfs.append(clf)\n",
    "    \n",
    "        clf.fit(\n",
    "            Pool(X_train, y_train, cat_features=cat_features),\n",
    "            eval_set=Pool(X_test, y_test, cat_features=cat_features),\n",
    "            verbose=False,\n",
    "            use_best_model=True,\n",
    "            plot=False)\n",
    "    \n",
    "        y_pred = clf.predict(X_test)\n",
    "        score = f1_score(list(map(str, y_test)), y_pred, average=\"macro\")  # np.mean(np.array(y_pred == y_test))\n",
    "        scores.append(score)\n",
    "        print(f\"fold: f1 score: {score}\")\n",
    "    \n",
    "    assert len(clfs) == n_splits\n",
    "    print(\n",
    "        \"mean f1 score ====>>> \" + str(np.mean(scores, dtype=\"float32\")) + \" <<<====\", np.std(scores).round(4), '\\n'\n",
    "    )\n",
    "    return clfs, np.mean(scores, dtype=\"float32\")"
   ]
  },
  {
   "cell_type": "markdown",
   "id": "6d4f340c-590b-47c5-9428-0e724612bb29",
   "metadata": {},
   "source": [
    "начинаем тренировку моделей! CatBoostClassifier"
   ]
  },
  {
   "cell_type": "code",
   "execution_count": 32,
   "id": "144b87fa-0626-44f5-a738-737be56b208a",
   "metadata": {
    "scrolled": true
   },
   "outputs": [
    {
     "name": "stdout",
     "output_type": "stream",
     "text": [
      "Прочие опасности\n",
      "Тип\n",
      "False    570\n",
      "True     285\n",
      "Name: count, dtype: int64\n",
      "fold: f1 score: 0.7890420899854862\n",
      "fold: f1 score: 0.8466128466128466\n",
      "fold: f1 score: 0.7654320987654321\n",
      "fold: f1 score: 0.8525862068965517\n",
      "fold: f1 score: 0.8065610859728507\n",
      "mean f1 score ====>>> 0.8120469 <<<==== 0.0334 \n",
      "\n",
      "Аварии с выбросом опасных/токсичных веществ\n",
      "Тип\n",
      "False    442\n",
      "True     221\n",
      "Name: count, dtype: int64\n",
      "Cannot setitem on a Categorical with a new category (), set the categories first\n",
      "fold: f1 score: 0.7451203066221875\n",
      "fold: f1 score: 0.8446368446368446\n",
      "fold: f1 score: 0.8589607635206786\n",
      "fold: f1 score: 0.7858201058201058\n",
      "fold: f1 score: 0.7200136845706466\n",
      "mean f1 score ====>>> 0.79091036 <<<==== 0.0542 \n",
      "\n",
      "ЖКХ\n",
      "Тип\n",
      "False    3582\n",
      "True     1791\n",
      "Name: count, dtype: int64\n",
      "Cannot setitem on a Categorical with a new category (), set the categories first\n",
      "fold: f1 score: 0.753943175192045\n",
      "fold: f1 score: 0.7851921276502944\n",
      "fold: f1 score: 0.7803980705210394\n",
      "fold: f1 score: 0.7741958090966431\n",
      "fold: f1 score: 0.7422418746045483\n",
      "mean f1 score ====>>> 0.76719415 <<<==== 0.0164 \n",
      "\n",
      "Взрывы/пожары/разрушения\n",
      "Тип\n",
      "False    1076\n",
      "True      538\n",
      "Name: count, dtype: int64\n",
      "Cannot setitem on a Categorical with a new category (), set the categories first\n",
      "fold: f1 score: 0.742874116319135\n",
      "fold: f1 score: 0.7628599848427435\n",
      "fold: f1 score: 0.7796207415772632\n",
      "fold: f1 score: 0.7436023436023436\n",
      "fold: f1 score: 0.7611022787493376\n",
      "mean f1 score ====>>> 0.75801194 <<<==== 0.0137 \n",
      "\n",
      "ДТП\n",
      "Тип\n",
      "False    278\n",
      "True     139\n",
      "Name: count, dtype: int64\n",
      "Cannot setitem on a Categorical with a new category (), set the categories first\n",
      "fold: f1 score: 0.6612252736700596\n",
      "fold: f1 score: 0.7606837606837606\n",
      "fold: f1 score: 0.7194591984548527\n",
      "fold: f1 score: 0.7844155844155845\n",
      "fold: f1 score: 0.7688779688779688\n",
      "mean f1 score ====>>> 0.73893243 <<<==== 0.0444 \n",
      "\n",
      "Опасные природные явления\n",
      "Тип\n",
      "False    358\n",
      "True     179\n",
      "Name: count, dtype: int64\n",
      "Cannot setitem on a Categorical with a new category (), set the categories first\n",
      "fold: f1 score: 0.7511520737327189\n",
      "fold: f1 score: 0.6974789915966387\n",
      "fold: f1 score: 0.7915584415584416\n",
      "fold: f1 score: 0.7967370655939211\n",
      "fold: f1 score: 0.7683982683982684\n",
      "mean f1 score ====>>> 0.761065 <<<==== 0.0358 \n",
      "\n",
      "Нет события\n",
      "Тип\n",
      "True     6306\n",
      "False    3153\n",
      "Name: count, dtype: int64\n",
      "Cannot setitem on a Categorical with a new category (), set the categories first\n",
      "fold: f1 score: 0.7384264048010931\n",
      "fold: f1 score: 0.7364317821955335\n",
      "fold: f1 score: 0.7326677891122775\n",
      "fold: f1 score: 0.7496194063850831\n",
      "fold: f1 score: 0.7322258861693051\n",
      "mean f1 score ====>>> 0.73787427 <<<==== 0.0063 \n",
      "\n",
      "[0.8120469, 0.79091036, 0.76719415, 0.75801194, 0.73893243, 0.761065, 0.73787427]\n",
      "['Прочие опасности', 'Аварии с выбросом опасных/токсичных веществ', 'ЖКХ', 'Взрывы/пожары/разрушения', 'ДТП', 'Опасные природные явления', 'Нет события']\n"
     ]
    }
   ],
   "source": [
    "scores = []\n",
    "total_clfs = []\n",
    "for column in target_values:\n",
    "    print(column)\n",
    "    train_df = merged_selected_df.copy()\n",
    "\n",
    "    train_df = downsample(train_df, column, fraction=0.01)\n",
    "    train_df['Тип'] = train_df['Тип'] == column\n",
    "\n",
    "    print(train_df['Тип'].value_counts())\n",
    "    \n",
    "    n_splits = 5\n",
    "    \n",
    "    target_column = 'Тип'\n",
    "    cat_features = [column for column in train_df.columns if any(map(lambda x: column.startswith(x), cat_features))] + ['meteostation']\n",
    "    for cat_feature in cat_features:\n",
    "        try:\n",
    "            train_df[cat_feature] = train_df[cat_feature].fillna('')\n",
    "        except Exception as e:\n",
    "            print(e)\n",
    "        train_df[cat_feature] = train_df[cat_feature].astype('category')\n",
    "    text_features = ['WW']\n",
    "    \n",
    "    X = train_df.drop(columns=[target_column, 'Район', 'Местное время', *target_values]) # 'meteostation'\n",
    "    y = train_df[target_column]\n",
    "\n",
    "    clfs, f1_value = train_model(X, y)\n",
    "    total_clfs.append(clfs)\n",
    "    scores.append(f1_value)\n",
    "print(scores)\n",
    "print(target_values)"
   ]
  },
  {
   "cell_type": "code",
   "execution_count": 33,
   "id": "4c653e19-979e-416b-b9a0-c577dd494ce1",
   "metadata": {},
   "outputs": [
    {
     "data": {
      "text/plain": [
       "0.76657635"
      ]
     },
     "execution_count": 33,
     "metadata": {},
     "output_type": "execute_result"
    }
   ],
   "source": [
    "np.mean(scores)"
   ]
  },
  {
   "cell_type": "markdown",
   "id": "cea2272e-f980-410a-9339-394034740f9f",
   "metadata": {},
   "source": [
    "**итоговый f1-score CatBoost модели равен среднему из каждого скора ==== 0.76657635** "
   ]
  },
  {
   "cell_type": "markdown",
   "id": "faaa1c73-67a5-44b8-bf97-27f9cc0942a3",
   "metadata": {},
   "source": [
    "# Explain reasons to select such predicts"
   ]
  },
  {
   "cell_type": "markdown",
   "id": "6b503c85-ca8c-484c-a86a-1389d517a0d8",
   "metadata": {},
   "source": [
    "смотрим на фичи, которые оказались важными для модели класса ЖКХ"
   ]
  },
  {
   "cell_type": "code",
   "execution_count": 34,
   "id": "76b8af75-5aaf-4b72-abe6-7c90b3b7d948",
   "metadata": {},
   "outputs": [
    {
     "name": "stdout",
     "output_type": "stream",
     "text": [
      "Cannot setitem on a Categorical with a new category (), set the categories first\n"
     ]
    }
   ],
   "source": [
    "column = 'ЖКХ'\n",
    "\n",
    "train_df = merged_selected_df.copy()\n",
    "\n",
    "train_df = downsample(train_df, column, fraction=0.01)\n",
    "train_df['Тип'] = train_df['Тип'] == column\n",
    "\n",
    "n_splits = 5\n",
    "\n",
    "target_column = 'Тип'\n",
    "cat_features = [column for column in train_df.columns if any(map(lambda x: column.startswith(x), cat_features))] + ['meteostation']\n",
    "for cat_feature in cat_features:\n",
    "    try:\n",
    "        train_df[cat_feature] = train_df[cat_feature].fillna('')\n",
    "    except Exception as e:\n",
    "        print(e)\n",
    "    train_df[cat_feature] = train_df[cat_feature].astype('category')\n",
    "text_features = ['WW']\n",
    "\n",
    "X = train_df.drop(columns=[target_column, 'Район', 'Местное время', *target_values]) # 'meteostation'\n",
    "y = train_df[target_column]"
   ]
  },
  {
   "cell_type": "code",
   "execution_count": 35,
   "id": "ca5436c9-8b68-49f4-b8ac-615f859a5463",
   "metadata": {},
   "outputs": [],
   "source": [
    "X_train, X_test, y_train, y_test = train_test_split(X, y, test_size=0.3, stratify=y)"
   ]
  },
  {
   "cell_type": "code",
   "execution_count": 36,
   "id": "424fa8b4-e0d8-43dc-ad50-096aab3340c9",
   "metadata": {},
   "outputs": [
    {
     "data": {
      "image/png": "[encoded data removed]",
      "text/plain": [
       "<Figure size 800x1350 with 1 Axes>"
      ]
     },
     "metadata": {},
     "output_type": "display_data"
    }
   ],
   "source": [
    "explainer = shap.TreeExplainer(total_clfs[target_values.index(column)][0])\n",
    "\n",
    "val_dataset = Pool(data=X_test, label=y_test, cat_features=cat_features)\n",
    "shap_values = explainer.shap_values(val_dataset)\n",
    "shap.summary_plot(shap_values, X_test, max_display=30)"
   ]
  },
  {
   "cell_type": "markdown",
   "id": "63ee66f5-a997-4810-9e8a-9203315d62bc",
   "metadata": {},
   "source": [
    "сохраняем модели"
   ]
  },
  {
   "cell_type": "code",
   "execution_count": 37,
   "id": "c802768b-0a04-4b3a-a7cd-d5a53ae677b5",
   "metadata": {},
   "outputs": [],
   "source": [
    "for j, column in enumerate(target_values):\n",
    "    for i, clf in enumerate(total_clfs[j]):\n",
    "        clf.save_model(f\"models/{column.replace('/', '_')}_classificator{i}.cbm\",\n",
    "               format=\"cbm\")"
   ]
  },
  {
   "cell_type": "markdown",
   "id": "fa219b74-7f04-4860-9a02-94417abebe3e",
   "metadata": {},
   "source": [
    "# Inference"
   ]
  },
  {
   "cell_type": "markdown",
   "id": "a2faac16-9a67-4dec-b4fc-64468e88b81b",
   "metadata": {},
   "source": [
    "код для инференса только для одной метеостанции"
   ]
  },
  {
   "cell_type": "code",
   "execution_count": 38,
   "id": "36e4a1bc-0e57-43db-a76f-48f2723df483",
   "metadata": {},
   "outputs": [],
   "source": [
    "inf_columns = X.columns.tolist()"
   ]
  },
  {
   "cell_type": "code",
   "execution_count": 39,
   "id": "659cbbef-d400-4a12-9f1c-2d31afe83689",
   "metadata": {},
   "outputs": [
    {
     "data": {
      "text/plain": [
       "['Прочие опасности',\n",
       " 'Аварии с выбросом опасных/токсичных веществ',\n",
       " 'ЖКХ',\n",
       " 'Взрывы/пожары/разрушения',\n",
       " 'ДТП',\n",
       " 'Опасные природные явления',\n",
       " 'Нет события']"
      ]
     },
     "execution_count": 39,
     "metadata": {},
     "output_type": "execute_result"
    }
   ],
   "source": [
    "target_values"
   ]
  },
  {
   "cell_type": "code",
   "execution_count": 40,
   "id": "dd810484-9e4f-4647-9514-c128ac579581",
   "metadata": {
    "scrolled": true
   },
   "outputs": [],
   "source": [
    "weather_stats_df = pd.read_csv(\"Данные/Данные по метеостанциям.csv\", low_memory=False)\n",
    "weather_stats_df.replace('^\\s+', '', regex=True, inplace=True) \n",
    "weather_stats_df.replace('\\s+$', '', regex=True, inplace=True)\n",
    "weather_stats_df[\"Местное время\"] = pd.to_datetime(weather_stats_df[\"Местное время\"], format=\"%d.%m.%Y %H:%M\")\n",
    "\n",
    "predicted_matrixes = []\n",
    "\n",
    "meteostation = 'Чердынь'\n",
    "    \n",
    "meteo_df = weather_stats_df[weather_stats_df['meteostation'] == meteostation].copy()\n",
    "\n",
    "meteo_df = meteo_df.sort_values(by=['Местное время'])\n",
    "meteo_df['RRR'] = meteo_df['RRR'].map(lambda x: x if x not in ['Осадков нет', 'Следы осадков'] else 0)\n",
    "meteo_df[\"day_of_week\"] = meteo_df[\"Местное время\"].map(lambda x: x.day_of_week)\n",
    "meteo_df[\"is_weekday\"] = meteo_df[\"day_of_week\"].isin([6, 7])\n",
    "meteo_df[\"hour\"] = meteo_df[\"Местное время\"].map(lambda x: x.hour)\n",
    "\n",
    "for column in selected_columns:\n",
    "    for i in range(10):\n",
    "        meteo_df[f\"{column}_lag{i}\"] = meteo_df[column].shift(i)\n",
    "\n",
    "for cat_feature in cat_features:\n",
    "    try:\n",
    "        meteo_df[cat_feature] = meteo_df[cat_feature].fillna('')\n",
    "    except Exception as e:\n",
    "        pass\n",
    "    meteo_df[cat_feature] = meteo_df[cat_feature].astype('category')\n",
    "\n",
    "X = meteo_df.drop(columns=['Местное время'])\n",
    "X = X[inf_columns]\n",
    "\n",
    "for column in target_values:\n",
    "\n",
    "    if column == 'Нет события':\n",
    "        continue\n",
    "\n",
    "    clfs = [CatBoostClassifier().load_model(f\"models/{column.replace('/', '_')}_classificator{i}.cbm\", format=\"cbm\") for i in range(5)]\n",
    "    predict_matrix = np.array([clf.predict_proba(X) for clf in clfs]).mean(axis=0)\n",
    "    predicted_matrixes.append(predict_matrix)"
   ]
  },
  {
   "cell_type": "code",
   "execution_count": 41,
   "id": "377df9fa-ddd0-400a-991f-2835ae92480f",
   "metadata": {},
   "outputs": [
    {
     "data": {
      "text/plain": [
       "['Прочие опасности',\n",
       " 'Аварии с выбросом опасных/токсичных веществ',\n",
       " 'ЖКХ',\n",
       " 'Взрывы/пожары/разрушения',\n",
       " 'ДТП',\n",
       " 'Опасные природные явления',\n",
       " 'Нет события']"
      ]
     },
     "execution_count": 41,
     "metadata": {},
     "output_type": "execute_result"
    }
   ],
   "source": [
    "target_values"
   ]
  },
  {
   "cell_type": "code",
   "execution_count": 42,
   "id": "e7666035-a350-491e-b74c-ecb967a732b1",
   "metadata": {},
   "outputs": [
    {
     "data": {
      "text/plain": [
       "(6, 29194)"
      ]
     },
     "execution_count": 42,
     "metadata": {},
     "output_type": "execute_result"
    }
   ],
   "source": [
    "predicted_matrixes = np.array(predicted_matrixes).argmax(axis=2)\n",
    "predicted_matrixes.shape"
   ]
  },
  {
   "cell_type": "code",
   "execution_count": null,
   "id": "7b706709-c58d-4e0a-af71-4a933ebabe07",
   "metadata": {},
   "outputs": [],
   "source": []
  },
  {
   "cell_type": "code",
   "execution_count": 43,
   "id": "59c34d5d-711f-443e-9ec6-535e591c7525",
   "metadata": {},
   "outputs": [],
   "source": [
    "meteostation = 'Чердынь'\n",
    "meteo_df = weather_stats_df[weather_stats_df['meteostation'] == meteostation].copy()\n",
    "meteo_df = meteo_df.sort_values(by=['Местное время'])"
   ]
  },
  {
   "cell_type": "code",
   "execution_count": 44,
   "id": "0f2d0f71-13d6-438c-bdb0-4362fcb921b0",
   "metadata": {},
   "outputs": [],
   "source": [
    "submit_df = pd.DataFrame()\n",
    "submit_df['Местное время'] = meteo_df['Местное время']\n",
    "i = 0\n",
    "for column in target_values:\n",
    "    if column == 'Нет события':\n",
    "        continue\n",
    "    submit_df[column + \"_pred\"] = predicted_matrixes[i]\n",
    "    i += 1"
   ]
  },
  {
   "cell_type": "code",
   "execution_count": 45,
   "id": "44b7f8d7-2732-4e33-aca1-8bf47247119e",
   "metadata": {},
   "outputs": [
    {
     "data": {
      "text/plain": [
       "['Прочие опасности',\n",
       " 'Аварии с выбросом опасных/токсичных веществ',\n",
       " 'ЖКХ',\n",
       " 'Взрывы/пожары/разрушения',\n",
       " 'ДТП',\n",
       " 'Опасные природные явления',\n",
       " 'Нет события']"
      ]
     },
     "execution_count": 45,
     "metadata": {},
     "output_type": "execute_result"
    }
   ],
   "source": [
    "target_values"
   ]
  },
  {
   "cell_type": "code",
   "execution_count": 46,
   "id": "bffb3846-3153-4ddc-bcd9-c4de11346134",
   "metadata": {},
   "outputs": [
    {
     "data": {
      "text/plain": [
       "Опасные природные явления_pred\n",
       "0    26321\n",
       "1     2873\n",
       "Name: count, dtype: int64"
      ]
     },
     "execution_count": 46,
     "metadata": {},
     "output_type": "execute_result"
    }
   ],
   "source": [
    "submit_df['Опасные природные явления_pred'].value_counts()"
   ]
  },
  {
   "cell_type": "code",
   "execution_count": 47,
   "id": "61f09a5a-bcea-4060-a339-7375fd17e118",
   "metadata": {},
   "outputs": [],
   "source": [
    "submit_df['total'] = sum([submit_df[column + \"_pred\"] for column in target_values if column != 'Нет события'])"
   ]
  },
  {
   "cell_type": "code",
   "execution_count": 48,
   "id": "7a3dfe7e-3f29-452f-8423-4b0a7041ce70",
   "metadata": {},
   "outputs": [],
   "source": [
    "cur_df = merged_df[merged_df['meteostation'] == 'Чердынь']\n",
    "cur_df = cur_df.sort_values(by=['Местное время'])"
   ]
  },
  {
   "cell_type": "code",
   "execution_count": 49,
   "id": "bd64cea5-f531-4100-a855-03f748599ae6",
   "metadata": {},
   "outputs": [],
   "source": [
    "cur_merged = submit_df[['Местное время', 'ЖКХ_pred']].merge(cur_df[['Местное время', 'ЖКХ']], on='Местное время')"
   ]
  },
  {
   "cell_type": "code",
   "execution_count": null,
   "id": "473ea6b7-d6d2-4e34-8b87-71df6baac0aa",
   "metadata": {},
   "outputs": [],
   "source": []
  }
 ],
 "metadata": {
  "kernelspec": {
   "display_name": "Python 3 (ipykernel)",
   "language": "python",
   "name": "python3"
  },
  "language_info": {
   "codemirror_mode": {
    "name": "ipython",
    "version": 3
   },
   "file_extension": ".py",
   "mimetype": "text/x-python",
   "name": "python",
   "nbconvert_exporter": "python",
   "pygments_lexer": "ipython3",
   "version": "3.11.6"
  }
 },
 "nbformat": 4,
 "nbformat_minor": 5
}
